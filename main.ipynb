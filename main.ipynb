{
 "cells": [
  {
   "cell_type": "markdown",
   "metadata": {},
   "source": [
    "## set arguments"
   ]
  },
  {
   "cell_type": "code",
   "execution_count": 1,
   "metadata": {
    "collapsed": false
   },
   "outputs": [
    {
     "data": {
      "text/plain": [
       "{\n",
       "  gpu : true\n",
       "  gpudevice : 1\n",
       "  modelname : GEINet\n",
       "  calval : 2\n",
       "  loadmodel : \n",
       "  gradclip : 5\n",
       "  datapath : /home/chenqiang/data/gait-rnn\n",
       "  learningrate : 0.001\n",
       "  geipath : /home/chenqiang/data/OULP_C1V1_Pack_GEI/\n",
       "  dropout : 0.5\n",
       "  batchsize : 64\n",
       "  calprecision : 200\n",
       "  iteration : 30\n",
       "}\n"
      ]
     },
     "execution_count": 1,
     "metadata": {},
     "output_type": "execute_result"
    }
   ],
   "source": [
    "cmd = torch.CmdLine()\n",
    "cmd:option('-iteration', 30,'how many iteration')\n",
    "cmd:option('-gradclip',5,'magnitude of clip on the RNN gradient')\n",
    "cmd:option('-modelname','GEINet','wuzifeng model name you want to load')\n",
    "cmd:option('-dropout',0.5,'fraction of dropout to use between layers')\n",
    "cmd:option('-learningrate',1e-3)\n",
    "cmd:option('-datapath', '/home/chenqiang/data/gait-rnn', 'base data path')\n",
    "cmd:option('-geipath', '/home/chenqiang/data/OULP_C1V1_Pack_GEI/')\n",
    "cmd:option('-calprecision', 200, 'calculate loss on validation every batch')\n",
    "cmd:option('-calval', 2, 'calculate loss on validation every batch')\n",
    "cmd:option('-batchsize', 64, 'how many intance in a traning batch')\n",
    "cmd:option('-loadmodel', '', 'load fullmodel, rnn model, cnn model')\n",
    "cmd:option('-gpu', false, 'use GPU')\n",
    "cmd:option('-gpudevice', 1, 'set gpu device')\n",
    "arg = arg or \"\"\n",
    "opt = cmd:parse(arg)\n",
    "opt.gpu = true\n",
    "print(opt)"
   ]
  },
  {
   "cell_type": "markdown",
   "metadata": {},
   "source": [
    "## set environment variable firstly"
   ]
  },
  {
   "cell_type": "code",
   "execution_count": 2,
   "metadata": {
    "collapsed": true
   },
   "outputs": [],
   "source": [
    "-- set the GPU\n",
    "if opt.gpu then\n",
    "    require 'cunn'\n",
    "    require 'cutorch'\n",
    "    cutorch.setDevice(opt.gpudevice)\n",
    "end"
   ]
  },
  {
   "cell_type": "markdown",
   "metadata": {},
   "source": [
    "## load models"
   ]
  },
  {
   "cell_type": "code",
   "execution_count": 3,
   "metadata": {
    "collapsed": false
   },
   "outputs": [],
   "source": [
    "require 'model.getModel';\n",
    "model, crit = GEINet(opt.gpu, opt.dropout)"
   ]
  },
  {
   "cell_type": "markdown",
   "metadata": {},
   "source": [
    "## load dataset"
   ]
  },
  {
   "cell_type": "code",
   "execution_count": 7,
   "metadata": {
    "collapsed": false
   },
   "outputs": [
    {
     "data": {
      "text/plain": [
       "2017-12-25 22:30:30[INFO] load data from /home/chenqiang/data/gait-rnn/oulp_train_data.txt, /home/chenqiang/data/gait-rnn/oulp_val_data.txt, /home/chenqiang/data/gait-rnn/oulp_test_data.txt\t\n",
       "2017-12-25 22:30:30[INFO] train data instances 00856, uniq  6848\t\n",
       "2017-12-25 22:30:30[INFO] val data instances 00100, uniq  0800\t\n",
       "2017-12-25 22:30:30[INFO] test data instances 00956, uniq  7648\t\n"
      ]
     },
     "execution_count": 7,
     "metadata": {},
     "output_type": "execute_result"
    }
   ],
   "source": [
    "local prepDataset = require 'prepareDataset'\n",
    "dataset = prepDataset.prepareDatasetOULP(opt.datapath, opt.modelname, opt.geipath)\n",
    "for i, item in ipairs({'train', 'val', 'test'}) do\n",
    "    local item_count = #dataset[item].index2hid\n",
    "    local uniq_count = #dataset[item].item_data\n",
    "    info('%s data instances %05d, uniq  %04d', item, item_count, uniq_count)\n",
    "end"
   ]
  },
  {
   "cell_type": "markdown",
   "metadata": {},
   "source": [
    "## start to train"
   ]
  },
  {
   "cell_type": "code",
   "execution_count": 5,
   "metadata": {
    "collapsed": true
   },
   "outputs": [],
   "source": [
    "Plot = require 'itorch.Plot';\n",
    "counter_tb = {}\n",
    "loss_tb = {}"
   ]
  },
  {
   "cell_type": "code",
   "execution_count": 6,
   "metadata": {
    "collapsed": false
   },
   "outputs": [
    {
     "data": {
      "text/plain": [
       "2017-12-25 22:25:51[INFO] Number of parameters:24226439\t\n"
      ]
     },
     "execution_count": 6,
     "metadata": {},
     "output_type": "execute_result"
    },
    {
     "data": {
      "text/plain": [
       "2017-12-25 22:25:52[INFO] 00001th/00030 Tra Error 6.862573, 1\t\n"
      ]
     },
     "execution_count": 6,
     "metadata": {},
     "output_type": "execute_result"
    },
    {
     "data": {
      "text/plain": [
       "2017-12-25 22:25:53[INFO] 00002th/00030 Val Error 6.863902\t\n"
      ]
     },
     "execution_count": 6,
     "metadata": {},
     "output_type": "execute_result"
    },
    {
     "data": {
      "text/plain": [
       "2017-12-25 22:25:53[INFO] 00002th/00030 Tes Error 6.865671\t\n"
      ]
     },
     "execution_count": 6,
     "metadata": {},
     "output_type": "execute_result"
    },
    {
     "data": {
      "text/plain": [
       "2017-12-25 22:25:54[INFO] 00002th/00030 Tra Error 6.865077, 1\t\n"
      ]
     },
     "execution_count": 6,
     "metadata": {},
     "output_type": "execute_result"
    },
    {
     "data": {
      "text/plain": [
       "2017-12-25 22:25:55[INFO] 00003th/00030 Tra Error 6.862040, 0\t\n"
      ]
     },
     "execution_count": 6,
     "metadata": {},
     "output_type": "execute_result"
    },
    {
     "data": {
      "text/plain": [
       "2017-12-25 22:25:55[INFO] 00004th/00030 Val Error 6.859328\t\n"
      ]
     },
     "execution_count": 6,
     "metadata": {},
     "output_type": "execute_result"
    },
    {
     "data": {
      "text/plain": [
       "2017-12-25 22:25:55[INFO] 00004th/00030 Tes Error 6.866451\t\n"
      ]
     },
     "execution_count": 6,
     "metadata": {},
     "output_type": "execute_result"
    },
    {
     "data": {
      "text/plain": [
       "2017-12-25 22:25:55[INFO] 00004th/00030 Tra Error 6.861688, 0\t\n"
      ]
     },
     "execution_count": 6,
     "metadata": {},
     "output_type": "execute_result"
    },
    {
     "data": {
      "text/plain": [
       "2017-12-25 22:25:56[INFO] 00005th/00030 Tra Error 6.863520, 0\t\n"
      ]
     },
     "execution_count": 6,
     "metadata": {},
     "output_type": "execute_result"
    },
    {
     "data": {
      "text/plain": [
       "2017-12-25 22:25:56[INFO] 00006th/00030 Val Error 6.857063\t\n"
      ]
     },
     "execution_count": 6,
     "metadata": {},
     "output_type": "execute_result"
    },
    {
     "data": {
      "text/plain": [
       "2017-12-25 22:25:56[INFO] 00006th/00030 Tes Error 6.865277\t\n"
      ]
     },
     "execution_count": 6,
     "metadata": {},
     "output_type": "execute_result"
    },
    {
     "data": {
      "text/plain": [
       "2017-12-25 22:25:57[INFO] 00006th/00030 Tra Error 6.864102, 1\t\n"
      ]
     },
     "execution_count": 6,
     "metadata": {},
     "output_type": "execute_result"
    },
    {
     "data": {
      "text/plain": [
       "2017-12-25 22:25:58[INFO] 00007th/00030 Tra Error 6.862687, 0\t\n"
      ]
     },
     "execution_count": 6,
     "metadata": {},
     "output_type": "execute_result"
    },
    {
     "data": {
      "text/plain": [
       "2017-12-25 22:25:58[INFO] 00008th/00030 Val Error 6.854218\t\n"
      ]
     },
     "execution_count": 6,
     "metadata": {},
     "output_type": "execute_result"
    },
    {
     "data": {
      "text/plain": [
       "2017-12-25 22:25:58[INFO] 00008th/00030 Tes Error 6.862837\t\n"
      ]
     },
     "execution_count": 6,
     "metadata": {},
     "output_type": "execute_result"
    },
    {
     "data": {
      "text/plain": [
       "2017-12-25 22:25:59[INFO] 00008th/00030 Tra Error 6.860694, 1\t\n"
      ]
     },
     "execution_count": 6,
     "metadata": {},
     "output_type": "execute_result"
    },
    {
     "data": {
      "text/plain": [
       "2017-12-25 22:26:00[INFO] 00009th/00030 Tra Error 6.862172, 0\t\n"
      ]
     },
     "execution_count": 6,
     "metadata": {},
     "output_type": "execute_result"
    },
    {
     "data": {
      "text/plain": [
       "2017-12-25 22:26:00[INFO] 00010th/00030 Val Error 6.863279\t\n"
      ]
     },
     "execution_count": 6,
     "metadata": {},
     "output_type": "execute_result"
    },
    {
     "data": {
      "text/plain": [
       "2017-12-25 22:26:01[INFO] 00010th/00030 Tes Error 6.866897\t\n"
      ]
     },
     "execution_count": 6,
     "metadata": {},
     "output_type": "execute_result"
    },
    {
     "data": {
      "text/plain": [
       "2017-12-25 22:26:01[INFO] 00010th/00030 Tra Error 6.861208, 0\t\n"
      ]
     },
     "execution_count": 6,
     "metadata": {},
     "output_type": "execute_result"
    },
    {
     "data": {
      "text/plain": [
       "2017-12-25 22:26:02[INFO] 00011th/00030 Tra Error 6.862516, 0\t\n"
      ]
     },
     "execution_count": 6,
     "metadata": {},
     "output_type": "execute_result"
    },
    {
     "data": {
      "text/plain": [
       "2017-12-25 22:26:02[INFO] 00012th/00030 Val Error 6.858454\t\n"
      ]
     },
     "execution_count": 6,
     "metadata": {},
     "output_type": "execute_result"
    },
    {
     "data": {
      "text/plain": [
       "2017-12-25 22:26:02[INFO] 00012th/00030 Tes Error 6.862455\t\n"
      ]
     },
     "execution_count": 6,
     "metadata": {},
     "output_type": "execute_result"
    },
    {
     "data": {
      "text/plain": [
       "2017-12-25 22:26:03[INFO] 00012th/00030 Tra Error 6.868934, 1\t\n"
      ]
     },
     "execution_count": 6,
     "metadata": {},
     "output_type": "execute_result"
    },
    {
     "data": {
      "text/plain": [
       "2017-12-25 22:26:04[INFO] 00013th/00030 Tra Error 6.860870, 0\t\n"
      ]
     },
     "execution_count": 6,
     "metadata": {},
     "output_type": "execute_result"
    },
    {
     "data": {
      "text/plain": [
       "2017-12-25 22:26:04[INFO] 00014th/00030 Val Error 6.862724\t\n"
      ]
     },
     "execution_count": 6,
     "metadata": {},
     "output_type": "execute_result"
    },
    {
     "data": {
      "text/plain": [
       "2017-12-25 22:26:04[INFO] 00014th/00030 Tes Error 6.860374\t\n"
      ]
     },
     "execution_count": 6,
     "metadata": {},
     "output_type": "execute_result"
    },
    {
     "data": {
      "text/plain": [
       "2017-12-25 22:26:05[INFO] 00014th/00030 Tra Error 6.865350, 1\t\n"
      ]
     },
     "execution_count": 6,
     "metadata": {},
     "output_type": "execute_result"
    },
    {
     "data": {
      "text/plain": [
       "2017-12-25 22:26:06[INFO] 00015th/00030 Tra Error 6.857179, 0\t\n"
      ]
     },
     "execution_count": 6,
     "metadata": {},
     "output_type": "execute_result"
    },
    {
     "data": {
      "text/plain": [
       "2017-12-25 22:26:06[INFO] 00016th/00030 Val Error 6.857994\t\n"
      ]
     },
     "execution_count": 6,
     "metadata": {},
     "output_type": "execute_result"
    },
    {
     "data": {
      "text/plain": [
       "2017-12-25 22:26:06[INFO] 00016th/00030 Tes Error 6.862984\t\n"
      ]
     },
     "execution_count": 6,
     "metadata": {},
     "output_type": "execute_result"
    },
    {
     "data": {
      "text/plain": [
       "2017-12-25 22:26:07[INFO] 00016th/00030 Tra Error 6.863724, 1\t\n"
      ]
     },
     "execution_count": 6,
     "metadata": {},
     "output_type": "execute_result"
    },
    {
     "data": {
      "text/plain": [
       "2017-12-25 22:26:07[INFO] 00017th/00030 Tra Error 6.862614, 0\t\n"
      ]
     },
     "execution_count": 6,
     "metadata": {},
     "output_type": "execute_result"
    },
    {
     "data": {
      "text/plain": [
       "2017-12-25 22:26:08[INFO] 00018th/00030 Val Error 6.860873\t\n"
      ]
     },
     "execution_count": 6,
     "metadata": {},
     "output_type": "execute_result"
    },
    {
     "data": {
      "text/plain": [
       "2017-12-25 22:26:08[INFO] 00018th/00030 Tes Error 6.863042\t\n"
      ]
     },
     "execution_count": 6,
     "metadata": {},
     "output_type": "execute_result"
    },
    {
     "data": {
      "text/plain": [
       "2017-12-25 22:26:09[INFO] 00018th/00030 Tra Error 6.862233, 1\t\n"
      ]
     },
     "execution_count": 6,
     "metadata": {},
     "output_type": "execute_result"
    },
    {
     "data": {
      "text/plain": [
       "2017-12-25 22:26:09[INFO] 00019th/00030 Tra Error 6.865769, 0\t\n"
      ]
     },
     "execution_count": 6,
     "metadata": {},
     "output_type": "execute_result"
    },
    {
     "data": {
      "text/plain": [
       "2017-12-25 22:26:10[INFO] 00020th/00030 Val Error 6.863768\t\n"
      ]
     },
     "execution_count": 6,
     "metadata": {},
     "output_type": "execute_result"
    },
    {
     "data": {
      "text/plain": [
       "2017-12-25 22:26:10[INFO] 00020th/00030 Tes Error 6.865135\t\n"
      ]
     },
     "execution_count": 6,
     "metadata": {},
     "output_type": "execute_result"
    },
    {
     "data": {
      "text/plain": [
       "2017-12-25 22:26:11[INFO] 00020th/00030 Tra Error 6.860199, 1\t\n"
      ]
     },
     "execution_count": 6,
     "metadata": {},
     "output_type": "execute_result"
    },
    {
     "data": {
      "text/plain": [
       "2017-12-25 22:26:11[INFO] 00021th/00030 Tra Error 6.864934, 0\t\n"
      ]
     },
     "execution_count": 6,
     "metadata": {},
     "output_type": "execute_result"
    },
    {
     "data": {
      "text/plain": [
       "2017-12-25 22:26:12[INFO] 00022th/00030 Val Error 6.861171\t\n"
      ]
     },
     "execution_count": 6,
     "metadata": {},
     "output_type": "execute_result"
    },
    {
     "data": {
      "text/plain": [
       "2017-12-25 22:26:12[INFO] 00022th/00030 Tes Error 6.862191\t\n"
      ]
     },
     "execution_count": 6,
     "metadata": {},
     "output_type": "execute_result"
    },
    {
     "data": {
      "text/plain": [
       "2017-12-25 22:26:13[INFO] 00022th/00030 Tra Error 6.862385, 1\t\n"
      ]
     },
     "execution_count": 6,
     "metadata": {},
     "output_type": "execute_result"
    },
    {
     "data": {
      "text/plain": [
       "2017-12-25 22:26:13[INFO] 00023th/00030 Tra Error 6.866692, 0\t\n"
      ]
     },
     "execution_count": 6,
     "metadata": {},
     "output_type": "execute_result"
    },
    {
     "data": {
      "text/plain": [
       "2017-12-25 22:26:13[INFO] 00024th/00030 Val Error 6.866182\t\n"
      ]
     },
     "execution_count": 6,
     "metadata": {},
     "output_type": "execute_result"
    },
    {
     "data": {
      "text/plain": [
       "2017-12-25 22:26:13[INFO] 00024th/00030 Tes Error 6.864545\t\n"
      ]
     },
     "execution_count": 6,
     "metadata": {},
     "output_type": "execute_result"
    },
    {
     "data": {
      "text/plain": [
       "2017-12-25 22:26:14[INFO] 00024th/00030 Tra Error 6.864995, 1\t\n"
      ]
     },
     "execution_count": 6,
     "metadata": {},
     "output_type": "execute_result"
    },
    {
     "data": {
      "text/plain": [
       "2017-12-25 22:26:15[INFO] 00025th/00030 Tra Error 6.865097, 0\t\n"
      ]
     },
     "execution_count": 6,
     "metadata": {},
     "output_type": "execute_result"
    },
    {
     "data": {
      "text/plain": [
       "2017-12-25 22:26:15[INFO] reset self.gei_index to 1, 01 epoch ends\t\n"
      ]
     },
     "execution_count": 6,
     "metadata": {},
     "output_type": "execute_result"
    },
    {
     "data": {
      "text/plain": [
       "2017-12-25 22:26:15[INFO] 00026th/00030 Val Error 6.859276\t\n"
      ]
     },
     "execution_count": 6,
     "metadata": {},
     "output_type": "execute_result"
    },
    {
     "data": {
      "text/plain": [
       "2017-12-25 22:26:15[INFO] 00026th/00030 Tes Error 6.856068\t\n"
      ]
     },
     "execution_count": 6,
     "metadata": {},
     "output_type": "execute_result"
    },
    {
     "data": {
      "text/plain": [
       "2017-12-25 22:26:16[INFO] 00026th/00030 Tra Error 6.861513, 0\t\n"
      ]
     },
     "execution_count": 6,
     "metadata": {},
     "output_type": "execute_result"
    },
    {
     "data": {
      "text/plain": [
       "2017-12-25 22:26:17[INFO] 00027th/00030 Tra Error 6.863482, 0\t\n"
      ]
     },
     "execution_count": 6,
     "metadata": {},
     "output_type": "execute_result"
    },
    {
     "data": {
      "text/plain": [
       "2017-12-25 22:26:17[INFO] 00028th/00030 Val Error 6.858210\t\n"
      ]
     },
     "execution_count": 6,
     "metadata": {},
     "output_type": "execute_result"
    },
    {
     "data": {
      "text/plain": [
       "2017-12-25 22:26:17[INFO] 00028th/00030 Tes Error 6.864064\t\n"
      ]
     },
     "execution_count": 6,
     "metadata": {},
     "output_type": "execute_result"
    },
    {
     "data": {
      "text/plain": [
       "2017-12-25 22:26:18[INFO] 00028th/00030 Tra Error 6.866108, 1\t\n"
      ]
     },
     "execution_count": 6,
     "metadata": {},
     "output_type": "execute_result"
    },
    {
     "data": {
      "text/plain": [
       "2017-12-25 22:26:18[INFO] 00029th/00030 Tra Error 6.862733, 0\t\n"
      ]
     },
     "execution_count": 6,
     "metadata": {},
     "output_type": "execute_result"
    },
    {
     "data": {
      "text/plain": [
       "2017-12-25 22:26:19[INFO] 00030th/00030 Val Error 6.859651\t\n"
      ]
     },
     "execution_count": 6,
     "metadata": {},
     "output_type": "execute_result"
    },
    {
     "data": {
      "text/plain": [
       "2017-12-25 22:26:19[INFO] 00030th/00030 Tes Error 6.866508\t\n"
      ]
     },
     "execution_count": 6,
     "metadata": {},
     "output_type": "execute_result"
    },
    {
     "data": {
      "text/plain": [
       "2017-12-25 22:26:19[INFO] 00030th/00030 Tra Error 6.862065, 1\t\n"
      ]
     },
     "execution_count": 6,
     "metadata": {},
     "output_type": "execute_result"
    }
   ],
   "source": [
    "local parameters, gradParameters = model:getParameters()\n",
    "info('Number of parameters:%d', parameters:size(1))\n",
    "local max_val_precision = 0\n",
    "\n",
    "local timer = torch.Timer()\n",
    "local i = 0\n",
    "while i < opt.iteration do\n",
    "    i = i + 1    \n",
    "    \n",
    "    -- calculate loss on validation dataset, and test dataset for testing purpose\n",
    "--     if i % opt.calval == 0 then\n",
    "--         local val_in, val_tar = dataset['val']:next_gei_batch(opt.batchsize)\n",
    "--         val_in = convertToCuda(val_in)\n",
    "--         local val_loss = cal_loss(model, crit, val_in, val_tar)\n",
    "--         info('%05dth/%05d Val Error %0.6f', i, opt.iteration, val_loss)\n",
    "        \n",
    "--         local tes_in, tes_tar = dataset['test']:next_gei_batch(opt.batchsize)\n",
    "--         tes_in = convertToCuda(tes_in)\n",
    "--         local loss = cal_loss(model, crit, tes_in, tes_tar)            \n",
    "--         info('%05dth/%05d Tes Error %0.6f', i, opt.iteration, loss)\n",
    "--     end\n",
    "    \n",
    "\n",
    "    local inputs, targets = dataset['train']:next_gei_batch(opt.batchsize)\n",
    "    gradParametersAdd = gradParameters:clone()\n",
    "    gradParametersAdd:zero()\n",
    "    total_loss = 0            \n",
    "    inputs = convertToCuda(inputs)\n",
    "    for j = 1, opt.batchsize do\n",
    "        inputPair = inputs[j]\n",
    "        output = model:forward(inputPair)\n",
    "        loss = crit:forward(output, targets[j])\n",
    "        total_loss = total_loss + loss\n",
    "        local grad = crit:backward(output, targets[j])        \n",
    "        gradParameters:zero()\n",
    "        model:backward(inputPair, grad)\n",
    "        gradParameters:clamp(-opt.gradclip, opt.gradclip)\n",
    "        gradParametersAdd:add(gradParameters)\n",
    "    end\n",
    "    total_loss = total_loss / opt.batchsize\n",
    "    gradParametersAdd:div(opt.batchsize)\n",
    "    parameters:add(gradParametersAdd*opt.learningrate*-1)   \n",
    "--     if i % opt.calprecision == 0 then\n",
    "--         local same, diff, prec = precisionCASIADatasetBNormal(dataset['val'], model)\n",
    "--         if prec > max_val_precision then\n",
    "--             info('change max precision from %0.2f to %0.2f'\n",
    "--                                         , max_val_precision, prec)\n",
    "--             max_val_precision = prec\n",
    "--             local name = string.format('%s_valpre_%0.04f_i%04d', opt.modelname, max_val_precision, i)\n",
    "--             save_model(model, name)\n",
    "--         else\n",
    "--             info('do not change max_precision from %0.2f to %0.2f', max_val_precision, prec)\n",
    "--         end\n",
    "--     end\n",
    "    \n",
    "    \n",
    "    local time = timer:time().real\n",
    "    timer:reset()\n",
    "    info('%05dth/%05d Tra Error %0.6f, %d', i, opt.iteration, total_loss, time)\n",
    "end"
   ]
  },
  {
   "cell_type": "code",
   "execution_count": null,
   "metadata": {
    "collapsed": true
   },
   "outputs": [],
   "source": []
  }
 ],
 "metadata": {
  "kernelspec": {
   "display_name": "iTorch",
   "language": "lua",
   "name": "itorch"
  },
  "language_info": {
   "name": "lua",
   "version": "5.1"
  }
 },
 "nbformat": 4,
 "nbformat_minor": 2
}
