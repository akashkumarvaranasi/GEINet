{
 "cells": [
  {
   "cell_type": "code",
   "execution_count": 1,
   "metadata": {
    "collapsed": true,
    "deletable": true,
    "editable": true
   },
   "outputs": [],
   "source": [
    "require 'getModel';"
   ]
  },
  {
   "cell_type": "code",
   "execution_count": 6,
   "metadata": {
    "collapsed": false,
    "deletable": true,
    "editable": true
   },
   "outputs": [
    {
     "data": {
      "text/plain": [
       "nn.Sequential {\n",
       "  [input -> (1) -> (2) -> (3) -> (4) -> output]\n",
       "  (1): nn.Sequential {\n",
       "    [input -> (1) -> (2) -> (3) -> (4) -> output]\n",
       "    (1): nn.SpatialConvolution(1 -> 18, 7x7)\n",
       "    (2): nn.ReLU\n",
       "    (3): nn.SpatialMaxPooling(2x2, 2,2)\n",
       "    (4): nn.SpatialCrossMapLRN\n",
       "  }\n",
       "  (2): nn.Sequential {\n",
       "    [input -> (1) -> (2) -> (3) -> (4) -> output]\n",
       "    (1): nn.SpatialConvolution(18 -> 45, 5x5)\n",
       "    (2): nn.ReLU\n",
       "    (3): nn.SpatialMaxPooling(3x3, 2,2)\n",
       "    (4): nn.SpatialCrossMapLRN\n",
       "  }\n",
       "  (3): nn.Sequential {\n",
       "    [input -> (1) -> (2) -> (3) -> (4) -> (5) -> output]\n",
       "    (1): nn.Reshape(22680)\n",
       "    (2): nn.Dropout(0.500000)\n",
       "    (3): nn.Linear(22680 -> 1024)\n",
       "    (4): nn.ReLU\n",
       "    (5): nn.Linear(1024 -> 956)\n",
       "  }\n",
       "  (4): nn.LogSoftMax\n",
       "}\n",
       "{\n",
       "  gradInput : DoubleTensor - empty\n",
       "  modules : \n",
       "    {\n",
       "      1 : \n",
       "        nn.Sequential {\n",
       "          [input -> (1) -> (2) -> (3) -> (4) -> output]\n",
       "          (1): nn.SpatialConvolution(1 -> 18, 7x7)\n",
       "          (2): nn.ReLU\n",
       "          (3): nn.SpatialMaxPooling(2x2, 2,2)\n",
       "          (4): nn.SpatialCrossMapLRN\n",
       "        }\n",
       "        {\n",
       "          gradInput : DoubleTensor - empty\n",
       "          modules : \n",
       "            {\n",
       "              1 : \n",
       "                nn.SpatialConvolution(1 -> 18, 7x7)\n",
       "                {\n",
       "                  dH : 1\n",
       "                  dW : 1\n",
       "                  nInputPlane : 1\n",
       "                  output : DoubleTensor - empty\n",
       "       "
      ]
     },
     "execution_count": 6,
     "metadata": {},
     "output_type": "execute_result"
    },
    {
     "data": {
      "text/plain": [
       "           kH : 7\n",
       "                  gradBias : DoubleTensor - size: 18\n",
       "                  padH : 0\n",
       "                  bias : DoubleTensor - size: 18\n",
       "                  weight : DoubleTensor - size: 18x1x7x7\n",
       "          "
      ]
     },
     "execution_count": 6,
     "metadata": {},
     "output_type": "execute_result"
    },
    {
     "data": {
      "text/plain": [
       "        _type : torch.DoubleTensor\n",
       "                  gradWeight : DoubleTensor - size: 18x1x7x7\n",
       "                  padW : 0\n",
       "                  nOutputPlane : 18\n",
       "                  kW : 7\n",
       "                  gradInput : DoubleTensor - empty\n",
       "                }\n",
       "              2 : \n",
       "                nn.ReLU\n",
       "                {\n",
       "                  inplace : false\n",
       "                  threshold : 0\n",
       "                  _type : torch.DoubleTensor\n",
       "                  output : DoubleTensor - empty\n",
       "                  gradInput : DoubleTensor - empty\n",
       "                  val : 0\n",
       "                }\n",
       "              3 : \n",
       "                nn.SpatialMaxPooling(2x2, 2,2)\n",
       "                {\n",
       "                  dH : 2\n",
       "                  dW : 2\n",
       "                  kW : 2\n",
       "                  gradInput : DoubleTensor - empty\n",
       "    "
      ]
     },
     "execution_count": 6,
     "metadata": {},
     "output_type": "execute_result"
    },
    {
     "data": {
      "text/plain": [
       "              indices : LongTensor - empty\n",
       "                  _type : torch.DoubleTensor\n",
       "                  padH : 0\n",
       "                  ceil_mode : false\n",
       "                  output : DoubleTensor - empty\n",
       "                  kH : 2\n",
       "                  padW : 0\n",
       "                }\n",
       "              4 : \n",
       "                nn.SpatialCrossMapLRN\n",
       "                {\n",
       "                  alpha : 0.0001\n",
       "                 "
      ]
     },
     "execution_count": 6,
     "metadata": {},
     "output_type": "execute_result"
    },
    {
     "data": {
      "text/plain": [
       " _type : torch.DoubleTensor\n",
       "                  output : DoubleTensor - empty\n",
       "                  gradInput : DoubleTensor - empty\n",
       "                  size : 5\n",
       "                  k : 2\n",
       "                  beta : 0.75\n",
       "                }\n",
       "            }\n",
       "          _type : torch.DoubleTensor\n",
       "          output : DoubleTensor - empty\n",
       "        }\n",
       "      2 : \n",
       "        nn.Sequential {\n",
       "          [input -> (1) -> (2) -> (3) -> (4) -> output]\n",
       "          (1): nn.SpatialConvolution(18 -> 45, 5x5)\n",
       "          (2): nn.ReLU\n",
       "          (3): nn.SpatialMaxPooling(3x3, 2,2)\n",
       "          (4): nn.SpatialCrossMapLRN\n",
       "        }\n",
       "        {\n",
       "          gradInput : DoubleTensor - empty\n",
       "          modules : \n",
       "            {\n",
       "              1 : \n",
       "                nn.SpatialConvolution(18 -> 45, 5x5)\n",
       "                {\n",
       "            "
      ]
     },
     "execution_count": 6,
     "metadata": {},
     "output_type": "execute_result"
    },
    {
     "data": {
      "text/plain": [
       "      dH : 1\n",
       "                  dW : 1\n",
       "                  nInputPlane : 18\n",
       "                  output : DoubleTensor - empty\n",
       "                  kH : 5\n",
       "                  gradBias : DoubleTensor - size: 45\n",
       "                  padH : 0\n",
       "                  bias : DoubleTensor - size: 45\n",
       "                  weight : DoubleTensor - size: 45x18x5x5\n",
       "                  _type : torch.DoubleTensor\n",
       "                  gradWeight : DoubleTensor - size: 45x18x5x5\n",
       "                  padW : 0\n",
       "                  nOutputPlane : 45\n",
       "                  kW : 5\n",
       "                  gradInput : DoubleTensor - empty\n",
       "                }\n",
       "              2 : \n",
       "                nn.ReLU\n",
       "                {\n"
      ]
     },
     "execution_count": 6,
     "metadata": {},
     "output_type": "execute_result"
    },
    {
     "data": {
      "text/plain": [
       "                  inplace : false\n",
       "                  threshold : 0\n",
       "                  _type : torch.DoubleTensor\n",
       "                  output : DoubleTensor - empty\n",
       "                  gradInput : DoubleTensor - empty\n",
       "                  val : 0\n",
       "                }\n",
       "              3 : \n",
       "                nn.SpatialMaxPooling(3x3, 2,2)\n",
       "                {\n",
       "                  dH : 2\n",
       "                  dW : 2\n",
       "                  kW : 3\n",
       "                  gradInput : DoubleTensor - empty\n",
       "                  indices : LongTensor - empty\n",
       "                  _type : torch.DoubleTensor\n",
       "                  padH : 0\n",
       "                  ceil_mode : false\n",
       "                  output : DoubleTensor - empty\n",
       "                  kH : 3\n",
       "                  padW : 0\n",
       "                }\n",
       "              4 : \n",
       "                nn.SpatialCrossMapLRN\n",
       "                {\n",
       "                  alpha : 0.0001\n",
       "                  _type : torch.DoubleTensor\n",
       "                  output : DoubleTensor - empty\n",
       "                  gradInput : DoubleTensor - empty\n",
       "                  size : 5\n",
       "                  k : 2\n",
       "                  beta : 0.75\n",
       "                }\n",
       "            }\n",
       "          _type : torch.DoubleTensor\n",
       "  "
      ]
     },
     "execution_count": 6,
     "metadata": {},
     "output_type": "execute_result"
    },
    {
     "data": {
      "text/plain": [
       "        output : DoubleTensor - empty\n",
       "        }\n",
       "      3 : \n",
       "        nn.Sequential {\n",
       "          [input -> (1) -> (2) -> (3) -> (4) -> (5) -> output]\n",
       "          (1): nn.Reshape(22680)\n",
       "          (2): nn.Dropout(0.500000)\n",
       "          (3): nn.Linear(22680 -> 1024)\n",
       "          (4): nn.ReLU\n",
       "          (5): nn.Linear(1024 -> 956)\n",
       "        }\n",
       "        {\n",
       "          gradInput : DoubleTensor - empty\n",
       "          modules : \n",
       "            {\n",
       "              1 : \n",
       "                nn.Reshape(22680)\n",
       "                {\n",
       "                  _type : torch.DoubleTensor\n",
       "                  output : DoubleTensor - empty\n",
       "                  gradInput : DoubleTensor - empty\n",
       "                  size : LongStorage - size: 1\n",
       "                  nelement : 22680\n",
       "                  batchsize : LongStorage - size: 2\n",
       "                }\n",
       "              2 : \n",
       "                nn.Dropout(0.500000)\n",
       "                {\n",
       "                  v2 : true\n",
       "                  noise : DoubleTensor - empty\n",
       "                  _type : torch.DoubleTensor\n",
       "                  p : 0.5\n",
       "                  gradInput : DoubleTensor - empty\n",
       "                  stochastic_inference : false\n",
       "                  train : true\n",
       "                  output : DoubleTensor - empty\n",
       "                }\n",
       "              3 : \n",
       "                nn.Linear(22680 -> 1024)\n",
       "                {\n",
       "                  "
      ]
     },
     "execution_count": 6,
     "metadata": {},
     "output_type": "execute_result"
    },
    {
     "data": {
      "text/plain": [
       "gradBias : DoubleTensor - size: 1024\n",
       "                  weight : DoubleTensor - size: 1024x22680\n",
       "                  _type : torch.DoubleTensor\n",
       "                  output : DoubleTensor - empty\n",
       "                  gradInput : DoubleTensor - empty\n",
       "                  bias : DoubleTensor - size: 1024\n",
       "                  gradWeight : DoubleTensor - size: 1024x22680\n",
       "                }\n",
       "              4 : \n",
       "                nn.ReLU\n",
       "                {\n",
       "                  inplace : false\n",
       "                  threshold : 0\n",
       "                  _type : torch.DoubleTensor\n",
       "                  output : DoubleTensor - empty\n",
       "                  gradInput : DoubleTensor - empty\n",
       "                  val : 0\n",
       "                }\n",
       "              5 : \n",
       "                nn.Linear(1024 -> 956)\n",
       "                {\n",
       "                  gradBias : DoubleTensor - size: 956\n",
       "                  weight : DoubleTensor - size: 956x1024\n",
       "                  _type : torch.DoubleTensor\n",
       "                  output : DoubleTensor - empty\n",
       "                  gradInput : DoubleTensor - empty\n",
       "                  bias : DoubleTensor - size: 956\n",
       "                  gradWeight : DoubleTensor - size: 956x1024\n",
       "                }\n",
       "            }\n",
       "          _type : torch.DoubleTensor\n",
       "          output : DoubleTensor - empty\n",
       "        }\n"
      ]
     },
     "execution_count": 6,
     "metadata": {},
     "output_type": "execute_result"
    },
    {
     "data": {
      "text/plain": [
       "      4 : \n",
       "        nn.LogSoftMax\n",
       "        {\n",
       "          gradInput : DoubleTensor - empty\n",
       "          _type : torch.DoubleTensor\n",
       "          output : DoubleTensor - empty\n",
       "        }\n",
       "    }\n",
       "  _type : torch.DoubleTensor\n",
       "  output : DoubleTensor - empty\n",
       "}\n"
      ]
     },
     "execution_count": 6,
     "metadata": {},
     "output_type": "execute_result"
    }
   ],
   "source": [
    "gpu = false\n",
    "dropout = 0.5\n",
    "model, crit = GEINet(gpu, dropout)\n",
    "print(model)"
   ]
  },
  {
   "cell_type": "markdown",
   "metadata": {
    "deletable": true,
    "editable": true
   },
   "source": [
    "#  test batch size forwarding"
   ]
  },
  {
   "cell_type": "code",
   "execution_count": 7,
   "metadata": {
    "collapsed": false,
    "deletable": true,
    "editable": true
   },
   "outputs": [
    {
     "data": {
      "text/plain": [
       "   8\n",
       " 956\n",
       "[torch.LongStorage of size 2]\n",
       "\n"
      ]
     },
     "execution_count": 7,
     "metadata": {},
     "output_type": "execute_result"
    }
   ],
   "source": [
    "batchsize = 8\n",
    "width = 88\n",
    "height = 128\n",
    "inputs = torch.randn(batchsize, 1, width, height)\n",
    "outputs = model:forward(inputs)\n",
    "print(outputs:size())"
   ]
  },
  {
   "cell_type": "markdown",
   "metadata": {
    "deletable": true,
    "editable": true
   },
   "source": [
    "#  test batch size backwarding"
   ]
  },
  {
   "cell_type": "code",
   "execution_count": 8,
   "metadata": {
    "collapsed": false,
    "deletable": true,
    "editable": true
   },
   "outputs": [
    {
     "data": {
      "text/plain": [
       "6.8581852149709\t\n",
       " 956\n",
       "[torch.LongStorage of size 1]\n",
       "\n"
      ]
     },
     "execution_count": 8,
     "metadata": {},
     "output_type": "execute_result"
    }
   ],
   "source": [
    "targets = torch.ones(8, 1)\n",
    "loss = crit:forward(outputs[1], targets[1])\n",
    "print(loss)\n",
    "back = crit:backward(outputs[1], targets[1])\n",
    "print(back:size())"
   ]
  },
  {
   "cell_type": "code",
   "execution_count": null,
   "metadata": {
    "collapsed": true,
    "deletable": true,
    "editable": true
   },
   "outputs": [],
   "source": []
  }
 ],
 "metadata": {
  "kernelspec": {
   "display_name": "iTorch",
   "language": "lua",
   "name": "itorch"
  },
  "language_info": {
   "name": "lua",
   "version": "5.1"
  }
 },
 "nbformat": 4,
 "nbformat_minor": 0
}
